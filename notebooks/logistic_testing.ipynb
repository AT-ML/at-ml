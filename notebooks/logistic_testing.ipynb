{
 "cells": [
  {
   "cell_type": "markdown",
   "id": "022199b5",
   "metadata": {},
   "source": [
    "## In this notebook, we demostrate how to use the pre-trained logistic IRT model to perform adaptive testing on a new model, and estimate its ability."
   ]
  },
  {
   "cell_type": "code",
   "execution_count": 1,
   "id": "8b8431b5",
   "metadata": {},
   "outputs": [],
   "source": [
    "import sys; sys.path.insert(0, '..')\n",
    "import sys; sys.path.insert(0, '../atml')\n",
    "import os\n",
    "import numpy\n",
    "import pandas\n",
    "import matplotlib.pyplot\n",
    "import joblib\n",
    "from atml.cat import Standard_CAT\n",
    "from atml.measure import BS\n",
    "from atml.visualisation import get_logistic_curve\n",
    "import sklearn.datasets\n",
    "from sklearn.ensemble import GradientBoostingClassifier\n",
    "%matplotlib inline"
   ]
  },
  {
   "cell_type": "markdown",
   "id": "6fce7ecc",
   "metadata": {},
   "source": [
    "## Load the IRT model and specify the dictionary and load function of the involved datasets"
   ]
  },
  {
   "cell_type": "code",
   "execution_count": 2,
   "id": "c9d16370",
   "metadata": {},
   "outputs": [],
   "source": [
    "logistic_mdl = joblib.load('./logistic_mdl.gz')"
   ]
  },
  {
   "cell_type": "code",
   "execution_count": 3,
   "id": "1f6bd930",
   "metadata": {},
   "outputs": [],
   "source": [
    "data_dict = {0: 'iris',\n",
    "             1: 'digits',\n",
    "             2: 'wine'}"
   ]
  },
  {
   "cell_type": "code",
   "execution_count": 4,
   "id": "1e6c494b",
   "metadata": {},
   "outputs": [],
   "source": [
    "def get_data(ref):\n",
    "    if ref == 'iris':\n",
    "        x, y = sklearn.datasets.load_iris(return_X_y=True)\n",
    "    elif ref == 'digits':\n",
    "        x, y = sklearn.datasets.load_digits(return_X_y=True)\n",
    "    elif ref == 'wine':\n",
    "        x, y = sklearn.datasets.load_wine(return_X_y=True)\n",
    "    return x, y"
   ]
  },
  {
   "cell_type": "markdown",
   "id": "e38df835",
   "metadata": {},
   "source": [
    "## Initialise the adaptive testing process with Standard_CAT(), specity the model to be tested (sklearn's GBC), and selected testing measure (Brier score)."
   ]
  },
  {
   "cell_type": "code",
   "execution_count": 5,
   "id": "52df4367",
   "metadata": {},
   "outputs": [],
   "source": [
    "cat_mdl = Standard_CAT(irt_mdl=logistic_mdl)"
   ]
  },
  {
   "cell_type": "code",
   "execution_count": 6,
   "id": "004310d2",
   "metadata": {},
   "outputs": [],
   "source": [
    "candidate_mdl = GradientBoostingClassifier()\n",
    "measure = BS()"
   ]
  },
  {
   "cell_type": "markdown",
   "id": "c2480e43",
   "metadata": {},
   "source": [
    "## Perfrom the adaptive testing with KL item information. The function will return four sequences: \n",
    "(1) the index of the selected dataset for each testing step\n",
    "\n",
    "(2) the name of the selected dataset for each testing step\n",
    "\n",
    "(3) the performance measurements for each testing step\n",
    "\n",
    "(4) the ability estimation for each testing step"
   ]
  },
  {
   "cell_type": "code",
   "execution_count": 7,
   "id": "b5fad599",
   "metadata": {},
   "outputs": [
    {
     "name": "stdout",
     "output_type": "stream",
     "text": [
      "======================================\n",
      "Test No.1, mdl: GradientBoostingClassifier(), measure: <atml.measure.BS object at 0x7f5d8be93d00>, info: kl, irt: logistic\n",
      "Max Info:41.322495\n",
      "Min Info:0.006123066\n",
      "selected dataset: wine\n",
      "test result is: 0.9355959332090349\n",
      "Total batch number: 1472\n",
      "Initial Loss: -3.7352896\n",
      "Final Loss: -3.861923\n",
      "Current Improvement, Initial Improvement * factr\n",
      "[0.00000000e+00 1.26633406e-17]\n",
      "current estimated ability is:[[0.7032884]]\n",
      "======================================\n",
      "Test No.2, mdl: GradientBoostingClassifier(), measure: <atml.measure.BS object at 0x7f5d8be93d00>, info: kl, irt: logistic\n",
      "Max Info:39.932243\n",
      "Min Info:0.0061490536\n",
      "selected dataset: digits\n",
      "test result is: 0.958025203132612\n",
      "Total batch number: 1593\n",
      "Initial Loss: -2.8828807\n",
      "Final Loss: -2.8831124\n",
      "Current Improvement, Initial Improvement * factr\n",
      "[0.00000000e+00 2.31742859e-20]\n",
      "current estimated ability is:[[0.72537225]]\n",
      "======================================\n",
      "Test No.3, mdl: GradientBoostingClassifier(), measure: <atml.measure.BS object at 0x7f5d8be93d00>, info: kl, irt: logistic\n",
      "Max Info:39.999016\n",
      "Min Info:0.0061068535\n",
      "selected dataset: iris\n",
      "test result is: 0.949017341663949\n",
      "Total batch number: 2776\n",
      "Initial Loss: 2.6833975\n",
      "Final Loss: 2.6830733\n",
      "Current Improvement, Initial Improvement * factr\n",
      "[0.00000000e+00 2.22206116e-20]\n",
      "current estimated ability is:[[0.71723115]]\n"
     ]
    }
   ],
   "source": [
    "selected_dataset_index, selected_dataset, measurements, ability_seq = cat_mdl.testing(mdl=candidate_mdl, \n",
    "                                                                                      measure=measure, \n",
    "                                                                                      item_info='kl',\n",
    "                                                                                      data_dict=data_dict, \n",
    "                                                                                      get_data=get_data)"
   ]
  },
  {
   "cell_type": "code",
   "execution_count": null,
   "id": "683730b6",
   "metadata": {},
   "outputs": [],
   "source": []
  }
 ],
 "metadata": {
  "kernelspec": {
   "display_name": "Python 3",
   "language": "python",
   "name": "python3"
  },
  "language_info": {
   "codemirror_mode": {
    "name": "ipython",
    "version": 3
   },
   "file_extension": ".py",
   "mimetype": "text/x-python",
   "name": "python",
   "nbconvert_exporter": "python",
   "pygments_lexer": "ipython3",
   "version": "3.8.5"
  }
 },
 "nbformat": 4,
 "nbformat_minor": 5
}
