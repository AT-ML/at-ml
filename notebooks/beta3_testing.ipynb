{
 "cells": [
  {
   "cell_type": "markdown",
   "id": "a9b7557e",
   "metadata": {},
   "source": [
    "## In this notebook, we demostrate how to use the pre-trained Beta-3 IRT model to perform adaptive testing on a new model, and estimate its ability."
   ]
  },
  {
   "cell_type": "code",
   "execution_count": 1,
   "id": "94d34437",
   "metadata": {},
   "outputs": [],
   "source": [
    "import sys; sys.path.insert(0, '..')\n",
    "import sys; sys.path.insert(0, '../atml')\n",
    "import os\n",
    "import numpy\n",
    "import pandas\n",
    "import matplotlib.pyplot\n",
    "import joblib\n",
    "from atml.cat import Standard_CAT\n",
    "from atml.measure import BS\n",
    "from atml.visualisation import get_logistic_curve\n",
    "import sklearn.datasets\n",
    "from sklearn.ensemble import GradientBoostingClassifier\n",
    "%matplotlib inline"
   ]
  },
  {
   "cell_type": "markdown",
   "id": "30449e54",
   "metadata": {},
   "source": [
    "## Load the IRT model and specify the dictionary and load function of the involved datasets"
   ]
  },
  {
   "cell_type": "code",
   "execution_count": 2,
   "id": "5f95a059",
   "metadata": {},
   "outputs": [],
   "source": [
    "beta3_mdl = joblib.load('./beta3_mdl.gz')"
   ]
  },
  {
   "cell_type": "code",
   "execution_count": 3,
   "id": "74afd68b",
   "metadata": {},
   "outputs": [],
   "source": [
    "data_dict = {0: 'iris',\n",
    "             1: 'digits',\n",
    "             2: 'wine'}"
   ]
  },
  {
   "cell_type": "code",
   "execution_count": 4,
   "id": "a0d381cd",
   "metadata": {},
   "outputs": [],
   "source": [
    "def get_data(ref):\n",
    "    if ref == 'iris':\n",
    "        x, y = sklearn.datasets.load_iris(return_X_y=True)\n",
    "    elif ref == 'digits':\n",
    "        x, y = sklearn.datasets.load_digits(return_X_y=True)\n",
    "    elif ref == 'wine':\n",
    "        x, y = sklearn.datasets.load_wine(return_X_y=True)\n",
    "    return x, y"
   ]
  },
  {
   "cell_type": "markdown",
   "id": "e12326a7",
   "metadata": {},
   "source": [
    "## Initialise the adaptive testing process with Standard_CAT(), specity the model to be tested (sklearn's GBC), and selected testing measure (Brier score)."
   ]
  },
  {
   "cell_type": "code",
   "execution_count": 5,
   "id": "235b2d03",
   "metadata": {},
   "outputs": [],
   "source": [
    "cat_mdl = Standard_CAT(irt_mdl=beta3_mdl)"
   ]
  },
  {
   "cell_type": "code",
   "execution_count": 6,
   "id": "719b8a68",
   "metadata": {},
   "outputs": [],
   "source": [
    "candidate_mdl = GradientBoostingClassifier()\n",
    "measure = BS()"
   ]
  },
  {
   "cell_type": "markdown",
   "id": "339cc588",
   "metadata": {},
   "source": [
    "## Perfrom the adaptive testing with KL item information. The function will return four sequences: \n",
    "(1) the index of the selected dataset for each testing step\n",
    "\n",
    "(2) the name of the selected dataset for each testing step\n",
    "\n",
    "(3) the performance measurements for each testing step\n",
    "\n",
    "(4) the ability estimation for each testing step"
   ]
  },
  {
   "cell_type": "code",
   "execution_count": 7,
   "id": "ab4a0077",
   "metadata": {},
   "outputs": [
    {
     "name": "stdout",
     "output_type": "stream",
     "text": [
      "======================================\n",
      "Test No.1, mdl: GradientBoostingClassifier(), measure: <atml.measure.BS object at 0x7fd61403b460>, info: fisher, irt: beta3\n",
      "Max Info:1327.4587\n",
      "Min Info:2.3875985\n",
      "selected dataset: digits\n",
      "test result is: 0.9554829617344183\n",
      "Total batch number: 1092\n",
      "Initial Loss: -2.0391316\n",
      "Final Loss: -2.0394635\n",
      "Current Improvement, Initial Improvement * factr\n",
      "[0.00000000e+00 3.31878662e-20]\n",
      "current estimated ability is:0.055154960602521896\n",
      "======================================\n",
      "Test No.2, mdl: GradientBoostingClassifier(), measure: <atml.measure.BS object at 0x7fd61403b460>, info: fisher, irt: beta3\n",
      "Max Info:1305.1431\n",
      "Min Info:2.368947\n",
      "selected dataset: wine\n",
      "test result is: 0.9276960152590326\n",
      "Total batch number: 1533\n",
      "Initial Loss: -1.6789389\n",
      "Final Loss: -1.6791891\n",
      "Current Improvement, Initial Improvement * factr\n",
      "[-3.57627869e-07  2.50220299e-20]\n",
      "current estimated ability is:0.05503968894481659\n",
      "======================================\n",
      "Test No.3, mdl: GradientBoostingClassifier(), measure: <atml.measure.BS object at 0x7fd61403b460>, info: fisher, irt: beta3\n",
      "Max Info:1312.2251\n",
      "Min Info:2.3780878\n",
      "selected dataset: iris\n",
      "test result is: 0.9066668466573934\n",
      "Total batch number: 1527\n",
      "Initial Loss: -1.19842\n",
      "Final Loss: -1.1986415\n",
      "Current Improvement, Initial Improvement * factr\n",
      "[0.0000000e+00 2.2149086e-20]\n",
      "current estimated ability is:0.05502694100141525\n"
     ]
    }
   ],
   "source": [
    "selected_dataset_index, selected_dataset, measurements, ability_seq = cat_mdl.testing(mdl=candidate_mdl, \n",
    "                                                                                      measure=measure, \n",
    "                                                                                      item_info='fisher',\n",
    "                                                                                      data_dict=data_dict, \n",
    "                                                                                      get_data=get_data)"
   ]
  },
  {
   "cell_type": "code",
   "execution_count": null,
   "id": "89b3bcf6",
   "metadata": {},
   "outputs": [],
   "source": []
  }
 ],
 "metadata": {
  "kernelspec": {
   "display_name": "Python 3",
   "language": "python",
   "name": "python3"
  },
  "language_info": {
   "codemirror_mode": {
    "name": "ipython",
    "version": 3
   },
   "file_extension": ".py",
   "mimetype": "text/x-python",
   "name": "python",
   "nbconvert_exporter": "python",
   "pygments_lexer": "ipython3",
   "version": "3.8.5"
  }
 },
 "nbformat": 4,
 "nbformat_minor": 5
}
